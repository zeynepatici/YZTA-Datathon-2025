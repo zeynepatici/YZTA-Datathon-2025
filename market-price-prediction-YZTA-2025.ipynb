{
 "cells": [
  {
   "cell_type": "code",
   "execution_count": 1,
   "id": "5f5408d9",
   "metadata": {},
   "outputs": [],
   "source": [
    "import pandas as pd\n",
    "import numpy as np\n",
    "import datetime\n",
    "from sklearn.model_selection import train_test_split\n",
    "from sklearn.preprocessing import LabelEncoder, StandardScaler\n",
    "from sklearn.metrics import mean_squared_error, r2_score\n",
    "from sklearn.ensemble import RandomForestRegressor\n",
    "from sklearn.tree import DecisionTreeRegressor\n",
    "from sklearn.neural_network import MLPRegressor\n",
    "import lightgbm as lgbm"
   ]
  },
  {
   "cell_type": "code",
   "execution_count": 2,
   "id": "ed5b0a95",
   "metadata": {},
   "outputs": [
    {
     "name": "stdout",
     "output_type": "stream",
     "text": [
      "Eğitim verisi satır sayısı: 227520\n",
      "Test verisi satır sayısı: 45504\n"
     ]
    }
   ],
   "source": [
    "# =============================================================================\n",
    "# VERİLERİ YÜKLEME\n",
    "# =============================================================================\n",
    "\n",
    "train_df = pd.read_csv('train.csv')\n",
    "test_df = pd.read_csv('testFeatures.csv')\n",
    "\n",
    "print(f\"Eğitim verisi satır sayısı: {train_df.shape[0]}\")\n",
    "print(f\"Test verisi satır sayısı: {test_df.shape[0]}\")"
   ]
  },
  {
   "cell_type": "code",
   "execution_count": 3,
   "id": "95605ee0",
   "metadata": {},
   "outputs": [],
   "source": [
    "# =============================================================================\n",
    "# TARİH ÖZELLİKLERİNİ OLUŞTURMA\n",
    "# =============================================================================\n",
    "\n",
    "def tarih_ozelliklerini_ekle(veri):\n",
    "    veri['tarih'] = pd.to_datetime(veri['tarih'])\n",
    "\n",
    "    veri['ay'] = veri['tarih'].dt.month\n",
    "    veri['gun'] = veri['tarih'].dt.day\n",
    "    veri['haftanin_gunu'] = veri['tarih'].dt.dayofweek\n",
    "    veri['yil'] = veri['tarih'].dt.year\n",
    "    \n",
    "    return veri\n",
    "\n",
    "train_df = tarih_ozelliklerini_ekle(train_df)\n",
    "test_df = tarih_ozelliklerini_ekle(test_df)"
   ]
  },
  {
   "cell_type": "code",
   "execution_count": 4,
   "id": "e1275ebe",
   "metadata": {},
   "outputs": [],
   "source": [
    "# =============================================================================\n",
    "# KATEGORİK DEĞİŞKENLERİ SAYISAL FORMATA ÇEVİRME\n",
    "# =============================================================================\n",
    "\n",
    "kategorik_degiskenler = ['ürün', 'ürün kategorisi', 'ürün üretim yeri', 'market', 'şehir']\n",
    "\n",
    "for degisken in kategorik_degiskenler:\n",
    "    encoder = LabelEncoder()\n",
    "    train_df[f'{degisken}_kod'] = encoder.fit_transform(train_df[degisken])\n",
    "    \n",
    "    yeni_kategoriler = set(test_df[degisken].unique()) - set(encoder.classes_)\n",
    "    if yeni_kategoriler:\n",
    "        print(f\"'{degisken}' için {len(yeni_kategoriler)} yeni kategori bulundu\")\n",
    "        en_sik_kategori = train_df[degisken].value_counts().index[0]\n",
    "        test_df[degisken] = test_df[degisken].apply(\n",
    "            lambda x: en_sik_kategori if x in yeni_kategoriler else x\n",
    "        )\n",
    "    \n",
    "    test_df[f'{degisken}_kod'] = encoder.transform(test_df[degisken])"
   ]
  },
  {
   "cell_type": "code",
   "execution_count": 5,
   "id": "30505a99",
   "metadata": {},
   "outputs": [],
   "source": [
    "# =============================================================================\n",
    "# GRUP İSTATİSTİKLERİNİ OLUŞTURMA\n",
    "# =============================================================================\n",
    "\n",
    "urun_fiyat_ortalama = train_df.groupby('ürün_kod')['ürün fiyatı'].agg([\n",
    "    'mean', 'median', 'std'\n",
    "]).reset_index()\n",
    "urun_fiyat_ortalama.columns = ['ürün_kod', 'urun_ort_fiyat', 'urun_medyan_fiyat', 'urun_std_fiyat']\n",
    "\n",
    "kategori_fiyat_ortalama = train_df.groupby('ürün kategorisi_kod')['ürün fiyatı'].agg([\n",
    "    'mean'\n",
    "]).reset_index()\n",
    "kategori_fiyat_ortalama.columns = ['ürün kategorisi_kod', 'kategori_ort_fiyat']\n",
    "\n",
    "market_fiyat_ortalama = train_df.groupby('market_kod')['ürün fiyatı'].agg([\n",
    "    'mean'\n",
    "]).reset_index()\n",
    "market_fiyat_ortalama.columns = ['market_kod', 'market_ort_fiyat']\n",
    "\n",
    "train_df = train_df.merge(urun_fiyat_ortalama, on='ürün_kod', how='left')\n",
    "test_df = test_df.merge(urun_fiyat_ortalama, on='ürün_kod', how='left')\n",
    "\n",
    "train_df = train_df.merge(kategori_fiyat_ortalama, on='ürün kategorisi_kod', how='left')\n",
    "test_df = test_df.merge(kategori_fiyat_ortalama, on='ürün kategorisi_kod', how='left')\n",
    "\n",
    "train_df = train_df.merge(market_fiyat_ortalama, on='market_kod', how='left')\n",
    "test_df = test_df.merge(market_fiyat_ortalama, on='market_kod', how='left')\n",
    "\n",
    "for veri in [train_df, test_df]:\n",
    "    for sutun in veri.columns:\n",
    "        if 'fiyat' in sutun and veri[sutun].isnull().sum() > 0:\n",
    "            veri[sutun].fillna(veri[sutun].mean(), inplace=True)"
   ]
  },
  {
   "cell_type": "code",
   "execution_count": 6,
   "id": "bd02567a",
   "metadata": {},
   "outputs": [
    {
     "name": "stdout",
     "output_type": "stream",
     "text": [
      "Kullanılacak özellik sayısı: 15\n"
     ]
    }
   ],
   "source": [
    "# =============================================================================\n",
    "# ÖZELLİKLERİ HAZIRLAMA\n",
    "# =============================================================================\n",
    "\n",
    "kullanilacak_ozellikler = [\n",
    "    'ürün_kod', 'ürün kategorisi_kod', 'ürün üretim yeri_kod', \n",
    "    'market_kod', 'şehir_kod', 'ürün besin değeri',\n",
    "    'ay', 'gun', 'haftanin_gunu', 'yil',\n",
    "    'urun_ort_fiyat', 'urun_medyan_fiyat', 'urun_std_fiyat',\n",
    "    'kategori_ort_fiyat', 'market_ort_fiyat'\n",
    "]\n",
    "\n",
    "mevcut_ozellikler = [ozellik for ozellik in kullanilacak_ozellikler \n",
    "                     if ozellik in train_df.columns]\n",
    "print(f\"Kullanılacak özellik sayısı: {len(mevcut_ozellikler)}\")\n",
    "\n",
    "X = train_df[mevcut_ozellikler]\n",
    "y = train_df['ürün fiyatı']\n",
    "X_test = test_df[mevcut_ozellikler]\n",
    "\n",
    "scaler = StandardScaler()\n",
    "X_scaled = scaler.fit_transform(X)\n",
    "X_test_scaled = scaler.transform(X_test)\n",
    "\n",
    "X_train, X_val, y_train, y_val = train_test_split(\n",
    "    X, y, test_size=0.2, random_state=42\n",
    ")\n",
    "X_train_scaled, X_val_scaled, _, _ = train_test_split(\n",
    "    X_scaled, y, test_size=0.2, random_state=42\n",
    ")"
   ]
  },
  {
   "cell_type": "code",
   "execution_count": 7,
   "id": "f0ef19f8",
   "metadata": {},
   "outputs": [
    {
     "name": "stdout",
     "output_type": "stream",
     "text": [
      "\n",
      ">> Decision Tree Modeli Eğitiliyor...\n",
      "Decision Tree RMSE: 1.6444\n",
      "\n",
      ">> Random Forest Modeli Eğitiliyor...\n",
      "Random Forest RMSE: 1.3660\n",
      "\n",
      ">> LightGBM Modeli Eğitiliyor...\n",
      "[LightGBM] [Warning] Found whitespace in feature_names, replace with underlines\n",
      "[LightGBM] [Info] Auto-choosing row-wise multi-threading, the overhead of testing was 0.009483 seconds.\n",
      "You can set `force_row_wise=true` to remove the overhead.\n",
      "And if memory is not enough, you can set `force_col_wise=true`.\n",
      "[LightGBM] [Info] Total Bins 429\n",
      "[LightGBM] [Info] Number of data points in the train set: 182016, number of used features: 14\n",
      "[LightGBM] [Info] Start training from score 17.023668\n",
      "LightGBM RMSE: 1.2424\n",
      "\n",
      ">> Neural Network Modeli Eğitiliyor...\n"
     ]
    },
    {
     "name": "stderr",
     "output_type": "stream",
     "text": [
      "c:\\Users\\hp\\anaconda3\\Lib\\site-packages\\sklearn\\neural_network\\_multilayer_perceptron.py:690: ConvergenceWarning: Stochastic Optimizer: Maximum iterations (250) reached and the optimization hasn't converged yet.\n",
      "  warnings.warn(\n"
     ]
    },
    {
     "name": "stdout",
     "output_type": "stream",
     "text": [
      "Neural Network RMSE: 1.0850\n"
     ]
    }
   ],
   "source": [
    "# =============================================================================\n",
    "# MODELLERİ EĞİTME VE KARŞILAŞTIRMA\n",
    "# =============================================================================\n",
    "\n",
    "model_sonuclari = {}\n",
    "\n",
    "# 1. Decision Tree\n",
    "print(\"\\n>> Decision Tree Modeli Eğitiliyor...\")\n",
    "decision_tree = DecisionTreeRegressor(max_depth=15, random_state=42)\n",
    "decision_tree.fit(X_train, y_train)\n",
    "y_pred_dt = decision_tree.predict(X_val)\n",
    "rmse_dt = np.sqrt(mean_squared_error(y_val, y_pred_dt))\n",
    "print(f\"Decision Tree RMSE: {rmse_dt:.4f}\")\n",
    "model_sonuclari['Decision Tree'] = {'model': decision_tree, 'rmse': rmse_dt}\n",
    "\n",
    "# 2. Random Forest\n",
    "print(\"\\n>> Random Forest Modeli Eğitiliyor...\")\n",
    "random_forest = RandomForestRegressor(n_estimators=100, max_depth=15, random_state=42)\n",
    "random_forest.fit(X_train, y_train)\n",
    "y_pred_rf = random_forest.predict(X_val)\n",
    "rmse_rf = np.sqrt(mean_squared_error(y_val, y_pred_rf))\n",
    "print(f\"Random Forest RMSE: {rmse_rf:.4f}\")\n",
    "model_sonuclari['Random Forest'] = {'model': random_forest, 'rmse': rmse_rf}\n",
    "\n",
    "# 3. LightGBM\n",
    "print(\"\\n>> LightGBM Modeli Eğitiliyor...\")\n",
    "lgbm_model = lgbm.LGBMRegressor(n_estimators=200, learning_rate=0.05, random_state=42)\n",
    "lgbm_model.fit(X_train, y_train)\n",
    "y_pred_lgbm = lgbm_model.predict(X_val)\n",
    "rmse_lgbm = np.sqrt(mean_squared_error(y_val, y_pred_lgbm))\n",
    "print(f\"LightGBM RMSE: {rmse_lgbm:.4f}\")\n",
    "model_sonuclari['LightGBM'] = {'model': lgbm_model, 'rmse': rmse_lgbm}\n",
    "\n",
    "# 4. Neural Network\n",
    "print(\"\\n>> Neural Network Modeli Eğitiliyor...\")\n",
    "mlp_model = MLPRegressor(\n",
    "    hidden_layer_sizes=(100, 50),\n",
    "    max_iter=250, \n",
    "    random_state=42\n",
    ")\n",
    "mlp_model.fit(X_train_scaled, y_train)\n",
    "y_pred_mlp = mlp_model.predict(X_val_scaled)\n",
    "rmse_mlp = np.sqrt(mean_squared_error(y_val, y_pred_mlp))\n",
    "print(f\"Neural Network RMSE: {rmse_mlp:.4f}\")\n",
    "model_sonuclari['Neural Network'] = {'model': mlp_model, 'rmse': rmse_mlp}\n"
   ]
  },
  {
   "cell_type": "code",
   "execution_count": 8,
   "id": "d7a521a1",
   "metadata": {},
   "outputs": [
    {
     "name": "stdout",
     "output_type": "stream",
     "text": [
      "\n",
      "EN İYİ MODEL: Neural Network\n",
      "RMSE: 1.0850\n"
     ]
    }
   ],
   "source": [
    "# =============================================================================\n",
    "# EN İYİ MODELİ SEÇME VE TAHMİN YAPMA\n",
    "# =============================================================================\n",
    "\n",
    "best_model_name = min(model_sonuclari.items(), key=lambda x: x[1]['rmse'])[0]\n",
    "best_model = model_sonuclari[best_model_name]['model']\n",
    "best_rmse = model_sonuclari[best_model_name]['rmse']\n",
    "\n",
    "print(f\"\\nEN İYİ MODEL: {best_model_name}\")\n",
    "print(f\"RMSE: {best_rmse:.4f}\")\n",
    "\n",
    "if best_model_name == 'Neural Network':\n",
    "    test_predictions = best_model.predict(X_test_scaled)\n",
    "else:\n",
    "    test_predictions = best_model.predict(X_test)\n",
    "\n",
    "test_predictions = np.maximum(0, test_predictions)"
   ]
  },
  {
   "cell_type": "code",
   "execution_count": 9,
   "id": "cc40942f",
   "metadata": {},
   "outputs": [
    {
     "name": "stdout",
     "output_type": "stream",
     "text": [
      "Tahminler 'submission_20250621_203443.csv' dosyasına kaydedildi!\n"
     ]
    }
   ],
   "source": [
    "# =============================================================================\n",
    "# TAHMİNLERİ KAYDETME \n",
    "# =============================================================================\n",
    "\n",
    "current_time = datetime.datetime.now()\n",
    "timestamp = current_time.strftime(\"%Y%m%d_%H%M%S\")  # YYYYMMDD_HHMMSS formatı\n",
    "\n",
    "submission_filename = f'submission_{timestamp}.csv'\n",
    "\n",
    "submission = pd.DataFrame({\n",
    "    'id': test_df['id'],\n",
    "    'ürün fiyatı': test_predictions\n",
    "})\n",
    "\n",
    "submission.to_csv(submission_filename, index=False)\n",
    "print(f\"Tahminler '{submission_filename}' dosyasına kaydedildi!\")"
   ]
  },
  {
   "cell_type": "code",
   "execution_count": 10,
   "id": "f108a33a",
   "metadata": {},
   "outputs": [
    {
     "name": "stdout",
     "output_type": "stream",
     "text": [
      "Tahmin Edilen Minimum Fiyat: 3.75\n",
      "Tahmin Edilen Maksimum Fiyat: 197.67\n",
      "Tahmin Edilen Ortalama Fiyat: 46.59\n",
      "\n",
      "=== Model Performans Karşılaştırması ===\n",
      "Decision Tree        RMSE: 1.6444\n",
      "Random Forest        RMSE: 1.3660\n",
      "LightGBM             RMSE: 1.2424\n",
      "Neural Network       RMSE: 1.0850\n"
     ]
    }
   ],
   "source": [
    "# =============================================================================\n",
    "# ÖZET İSTATİSTİKLER\n",
    "# =============================================================================\n",
    "\n",
    "print(f\"Tahmin Edilen Minimum Fiyat: {test_predictions.min():.2f}\")\n",
    "print(f\"Tahmin Edilen Maksimum Fiyat: {test_predictions.max():.2f}\")\n",
    "print(f\"Tahmin Edilen Ortalama Fiyat: {test_predictions.mean():.2f}\")\n",
    "\n",
    "print(\"\\n=== Model Performans Karşılaştırması ===\")\n",
    "for model_adi, sonuc in model_sonuclari.items():\n",
    "    print(f\"{model_adi:<20} RMSE: {sonuc['rmse']:.4f}\")"
   ]
  }
 ],
 "metadata": {
  "kernelspec": {
   "display_name": "base",
   "language": "python",
   "name": "python3"
  },
  "language_info": {
   "codemirror_mode": {
    "name": "ipython",
    "version": 3
   },
   "file_extension": ".py",
   "mimetype": "text/x-python",
   "name": "python",
   "nbconvert_exporter": "python",
   "pygments_lexer": "ipython3",
   "version": "3.12.7"
  }
 },
 "nbformat": 4,
 "nbformat_minor": 5
}
